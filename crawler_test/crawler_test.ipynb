{
 "cells": [
  {
   "cell_type": "code",
   "execution_count": 70,
   "metadata": {
    "collapsed": true
   },
   "outputs": [],
   "source": [
    "import pandas as pd\n",
    "from datetime import datetime\n"
   ]
  },
  {
   "cell_type": "code",
   "execution_count": 71,
   "outputs": [
    {
     "data": {
      "text/plain": "                   0                    1     2     3           4        5   \\\n0        上海鸿帆网络科技有限公司          Python开发工程师    本科    民营       少于50人   上海·徐汇区   \n1          网思科技股份有限公司            Python工程师    本科    民营   500-1000人   昆明·西山区   \n2       深圳市悠享网络科技有限公司            Python工程师    大专  创业公司     50-150人   深圳·宝安区   \n3          广东众图科技有限公司        Python开发高级工程师    大专    民营    150-500人   佛山·南海区   \n4          宁波草船科技有限公司            Python工程师    本科    民营       少于50人   宁波·鄞州区   \n...               ...                  ...   ...   ...         ...      ...   \n2247       首汽租赁有限责任公司        首汽租车西宁车辆资产管理员    大专    国企  1000-5000人       西宁   \n2248  东莞市奥利汽车销售服务有限公司                车辆管理员  无需学历    民营    150-500人       东莞   \n2249     皖江金融租赁股份有限公司           车辆金融事业部业务岗    本科    国企    150-500人  合肥·滨湖新区   \n2250       AKKA技术有限公司               车辆内饰采购    本科    外资    150-500人  上海·浦东新区   \n2251               滴滴  滴滴正编-自动驾驶车辆测试员-双休黄埔    大专    民营    10000人以上   广州·黄埔区   \n\n         6                                                  7     8   9   \\\n0     16000  2年, 本科, python, fastapi, django, redis, docker...    2年  全职   \n1      8000        1年, 本科, rpa, python, 周末双休, 带薪年假, 大牛带队, 朝九晚六    1年  全职   \n2     13000  3-4年, 大专, 数据库, 后台管理系统, ccs, python, js, html, ...  3-4年  全职   \n3     12000  5-7年, 大专, 五险一金, 周末双休, 带薪年假, 专业培训, 绩效奖金, 团队聚餐, ...  5-7年  全职   \n4     13500  1年, 本科, 计算机软件, 机器学习, 算法, 数据库, 多线程, go, 云服务, Py...    1年  全职   \n...     ...                                                ...   ...  ..   \n2247   4500                                       2年, 大专, 五险一金    2年  全职   \n2248   6500       2年, 驾驶, 带薪年假, 节日福利, 绩效奖金, 餐饮补贴, 包吃, 五险, 定期体检    2年  全职   \n2249  22500  3-4年, 本科, 市场营销, 金融, 车辆工程, 项目评估论证, 汽车金融公司, 金融租赁...  3-4年  全职   \n2250  11500  无需经验, 本科, 供应商谈判, 供应商关系, 全球采购, 免费班车, 员工旅游, 专业培训...  无需经验  全职   \n2251   7250  8-9年, 大专, 五险一金, 补充医疗保险, 年终奖金, 定期体检, 带薪年假, 上五休二...  8-9年  全职   \n\n              10        11  \n0     2023-08-28     计算机服务  \n1     2023-08-30     计算机服务  \n2     2023-08-29      网络游戏  \n3     2023-08-28  互联网/电子商务  \n4     2023-08-30  互联网/电子商务  \n...          ...       ...  \n2247  2023-08-04  交通/运输/物流  \n2248  2023-08-02        汽车  \n2249  2023-08-08  金融/投资/证券  \n2250  2023-08-15      专业服务  \n2251  2023-06-02  互联网/电子商务  \n\n[2252 rows x 12 columns]",
      "text/html": "<div>\n<style scoped>\n    .dataframe tbody tr th:only-of-type {\n        vertical-align: middle;\n    }\n\n    .dataframe tbody tr th {\n        vertical-align: top;\n    }\n\n    .dataframe thead th {\n        text-align: right;\n    }\n</style>\n<table border=\"1\" class=\"dataframe\">\n  <thead>\n    <tr style=\"text-align: right;\">\n      <th></th>\n      <th>0</th>\n      <th>1</th>\n      <th>2</th>\n      <th>3</th>\n      <th>4</th>\n      <th>5</th>\n      <th>6</th>\n      <th>7</th>\n      <th>8</th>\n      <th>9</th>\n      <th>10</th>\n      <th>11</th>\n    </tr>\n  </thead>\n  <tbody>\n    <tr>\n      <th>0</th>\n      <td>上海鸿帆网络科技有限公司</td>\n      <td>Python开发工程师</td>\n      <td>本科</td>\n      <td>民营</td>\n      <td>少于50人</td>\n      <td>上海·徐汇区</td>\n      <td>16000</td>\n      <td>2年, 本科, python, fastapi, django, redis, docker...</td>\n      <td>2年</td>\n      <td>全职</td>\n      <td>2023-08-28</td>\n      <td>计算机服务</td>\n    </tr>\n    <tr>\n      <th>1</th>\n      <td>网思科技股份有限公司</td>\n      <td>Python工程师</td>\n      <td>本科</td>\n      <td>民营</td>\n      <td>500-1000人</td>\n      <td>昆明·西山区</td>\n      <td>8000</td>\n      <td>1年, 本科, rpa, python, 周末双休, 带薪年假, 大牛带队, 朝九晚六</td>\n      <td>1年</td>\n      <td>全职</td>\n      <td>2023-08-30</td>\n      <td>计算机服务</td>\n    </tr>\n    <tr>\n      <th>2</th>\n      <td>深圳市悠享网络科技有限公司</td>\n      <td>Python工程师</td>\n      <td>大专</td>\n      <td>创业公司</td>\n      <td>50-150人</td>\n      <td>深圳·宝安区</td>\n      <td>13000</td>\n      <td>3-4年, 大专, 数据库, 后台管理系统, ccs, python, js, html, ...</td>\n      <td>3-4年</td>\n      <td>全职</td>\n      <td>2023-08-29</td>\n      <td>网络游戏</td>\n    </tr>\n    <tr>\n      <th>3</th>\n      <td>广东众图科技有限公司</td>\n      <td>Python开发高级工程师</td>\n      <td>大专</td>\n      <td>民营</td>\n      <td>150-500人</td>\n      <td>佛山·南海区</td>\n      <td>12000</td>\n      <td>5-7年, 大专, 五险一金, 周末双休, 带薪年假, 专业培训, 绩效奖金, 团队聚餐, ...</td>\n      <td>5-7年</td>\n      <td>全职</td>\n      <td>2023-08-28</td>\n      <td>互联网/电子商务</td>\n    </tr>\n    <tr>\n      <th>4</th>\n      <td>宁波草船科技有限公司</td>\n      <td>Python工程师</td>\n      <td>本科</td>\n      <td>民营</td>\n      <td>少于50人</td>\n      <td>宁波·鄞州区</td>\n      <td>13500</td>\n      <td>1年, 本科, 计算机软件, 机器学习, 算法, 数据库, 多线程, go, 云服务, Py...</td>\n      <td>1年</td>\n      <td>全职</td>\n      <td>2023-08-30</td>\n      <td>互联网/电子商务</td>\n    </tr>\n    <tr>\n      <th>...</th>\n      <td>...</td>\n      <td>...</td>\n      <td>...</td>\n      <td>...</td>\n      <td>...</td>\n      <td>...</td>\n      <td>...</td>\n      <td>...</td>\n      <td>...</td>\n      <td>...</td>\n      <td>...</td>\n      <td>...</td>\n    </tr>\n    <tr>\n      <th>2247</th>\n      <td>首汽租赁有限责任公司</td>\n      <td>首汽租车西宁车辆资产管理员</td>\n      <td>大专</td>\n      <td>国企</td>\n      <td>1000-5000人</td>\n      <td>西宁</td>\n      <td>4500</td>\n      <td>2年, 大专, 五险一金</td>\n      <td>2年</td>\n      <td>全职</td>\n      <td>2023-08-04</td>\n      <td>交通/运输/物流</td>\n    </tr>\n    <tr>\n      <th>2248</th>\n      <td>东莞市奥利汽车销售服务有限公司</td>\n      <td>车辆管理员</td>\n      <td>无需学历</td>\n      <td>民营</td>\n      <td>150-500人</td>\n      <td>东莞</td>\n      <td>6500</td>\n      <td>2年, 驾驶, 带薪年假, 节日福利, 绩效奖金, 餐饮补贴, 包吃, 五险, 定期体检</td>\n      <td>2年</td>\n      <td>全职</td>\n      <td>2023-08-02</td>\n      <td>汽车</td>\n    </tr>\n    <tr>\n      <th>2249</th>\n      <td>皖江金融租赁股份有限公司</td>\n      <td>车辆金融事业部业务岗</td>\n      <td>本科</td>\n      <td>国企</td>\n      <td>150-500人</td>\n      <td>合肥·滨湖新区</td>\n      <td>22500</td>\n      <td>3-4年, 本科, 市场营销, 金融, 车辆工程, 项目评估论证, 汽车金融公司, 金融租赁...</td>\n      <td>3-4年</td>\n      <td>全职</td>\n      <td>2023-08-08</td>\n      <td>金融/投资/证券</td>\n    </tr>\n    <tr>\n      <th>2250</th>\n      <td>AKKA技术有限公司</td>\n      <td>车辆内饰采购</td>\n      <td>本科</td>\n      <td>外资</td>\n      <td>150-500人</td>\n      <td>上海·浦东新区</td>\n      <td>11500</td>\n      <td>无需经验, 本科, 供应商谈判, 供应商关系, 全球采购, 免费班车, 员工旅游, 专业培训...</td>\n      <td>无需经验</td>\n      <td>全职</td>\n      <td>2023-08-15</td>\n      <td>专业服务</td>\n    </tr>\n    <tr>\n      <th>2251</th>\n      <td>滴滴</td>\n      <td>滴滴正编-自动驾驶车辆测试员-双休黄埔</td>\n      <td>大专</td>\n      <td>民营</td>\n      <td>10000人以上</td>\n      <td>广州·黄埔区</td>\n      <td>7250</td>\n      <td>8-9年, 大专, 五险一金, 补充医疗保险, 年终奖金, 定期体检, 带薪年假, 上五休二...</td>\n      <td>8-9年</td>\n      <td>全职</td>\n      <td>2023-06-02</td>\n      <td>互联网/电子商务</td>\n    </tr>\n  </tbody>\n</table>\n<p>2252 rows × 12 columns</p>\n</div>"
     },
     "execution_count": 71,
     "metadata": {},
     "output_type": "execute_result"
    }
   ],
   "source": [
    "import re\n",
    "\n",
    "global x, y\n",
    "df = pd.read_csv('../static/data.csv', header=None, encoding='utf-8-sig')\n",
    "df"
   ],
   "metadata": {
    "collapsed": false
   }
  },
  {
   "cell_type": "code",
   "execution_count": 72,
   "outputs": [],
   "source": [
    "temp = pd.to_datetime(df[10])\n",
    "df[10] = temp.apply(lambda x: datetime.strftime(x, \"%Y-%m-%d\"))\n",
    "df = df.replace('[(（].*[）)]', '', regex=True)\n",
    "df.drop_duplicates(keep='first', inplace=True)# 删除重复值\n",
    "df.reset_index(drop=True, inplace=True)\n",
    "for i in range(0, df.shape[0]):  # 0-1349 数据条数a\n",
    "    try:\n",
    "        s = df.loc[[i], [6]].values.tolist()[0][0]\n",
    "        if s[-3:-1] == '下/':\n",
    "            df.loc[[i], [6]] = int(eval(s[0])* 10000 / 12)\n",
    "            continue\n",
    "        if s[-1] == '天':\n",
    "            if s[-3]=='千':\n",
    "                df.loc[[i], [6]] = int(eval(s[0:-3]) *1000* 22)\n",
    "                continue\n",
    "            elif s[-3]=='万':\n",
    "                df.loc[[i], [6]] = int(eval(s[0:-3]) *10000* 22)\n",
    "                continue\n",
    "            else:\n",
    "                df.loc[[i], [6]] = int(eval(s[0:-3]) * 22)\n",
    "                continue\n",
    "        if str(s) == 'nan':\n",
    "            continue\n",
    "        if str(s)[-1] == '下':\n",
    "            w = re.search('([0-9]*[万千])', s)\n",
    "            if str(w[0])[-1] == '万':\n",
    "                r = int(str(w[0])[0]) * 10000\n",
    "            else:\n",
    "                r = int(str(w[0])[0]) * 1000\n",
    "            value = round(r / 2)\n",
    "            df.loc[[i], [6]] = value\n",
    "        else:\n",
    "            a = re.search('(.*)-([0-9.]*[\\u4e00-\\u9fa5])', str(s))[1]\n",
    "            b = re.search('(.*)-([0-9.]*[\\u4e00-\\u9fa5])', str(s))[2]\n",
    "            if b[-1] == '千':\n",
    "                x = eval(a[0:]) * 1000\n",
    "                y = eval(b[0:-1]) * 1000\n",
    "            elif a[-1] == '千':\n",
    "                x = eval(a[0:-1]) * 1000\n",
    "                y = eval(b[0:-1]) * 10000\n",
    "            elif b[-1] == '万':\n",
    "                x = eval(a[0:]) * 10000\n",
    "                y = eval(b[0:-1]) * 10000\n",
    "            elif b[-1] == '年':\n",
    "                a1 = re.search('(.*)-(.*)\\/年', str(s))[1]  # 处理年薪\n",
    "                b1 = re.search('(.*)-(.*)\\/年', str(s))[2]\n",
    "                x1 = eval(a1[0:]) * 10000\n",
    "                y1 = eval(b1[0:-1]) * 10000\n",
    "                value1 = round((x1 + y1) / (2 * 12), -1)\n",
    "                df.loc[[i], [6]] = value1\n",
    "            elif b[-1] == '薪':\n",
    "                m = re.search('(.*)-([0-9.]*[\\u4e00-\\u9fa5])', a)[1]\n",
    "                n = re.search('(.*)-([0-9.]*[\\u4e00-\\u9fa5])', a)[2]\n",
    "                if n[-1] == '千':\n",
    "                    x = eval(a[0:]) * 1000\n",
    "                    y = eval(b[0:-1]) * 1000\n",
    "                elif m[-1] == '千':\n",
    "                    x = eval(a[0:-1]) * 1000\n",
    "                    y = eval(b[0:-1]) * 10000\n",
    "                elif n[-1] == '万':\n",
    "                    x = eval(a[0:]) * 10000\n",
    "                    y = eval(b[0:-1]) * 10000\n",
    "                else:\n",
    "                    print(s)\n",
    "                    continue\n",
    "            else:\n",
    "                print(s)\n",
    "                continue\n",
    "            value = round((x + y) / 2)\n",
    "            df.loc[[i], [6]] = value\n",
    "    except:\n",
    "        continue"
   ],
   "metadata": {
    "collapsed": false
   }
  },
  {
   "cell_type": "code",
   "execution_count": 73,
   "outputs": [
    {
     "data": {
      "text/plain": "                   0                    1     2     3           4        5   \\\n0        上海鸿帆网络科技有限公司          Python开发工程师    本科    民营       少于50人   上海·徐汇区   \n1          网思科技股份有限公司            Python工程师    本科    民营   500-1000人   昆明·西山区   \n2       深圳市悠享网络科技有限公司            Python工程师    大专  创业公司     50-150人   深圳·宝安区   \n3          广东众图科技有限公司        Python开发高级工程师    大专    民营    150-500人   佛山·南海区   \n4          宁波草船科技有限公司            Python工程师    本科    民营       少于50人   宁波·鄞州区   \n...               ...                  ...   ...   ...         ...      ...   \n2247       首汽租赁有限责任公司        首汽租车西宁车辆资产管理员    大专    国企  1000-5000人       西宁   \n2248  东莞市奥利汽车销售服务有限公司                车辆管理员  无需学历    民营    150-500人       东莞   \n2249     皖江金融租赁股份有限公司           车辆金融事业部业务岗    本科    国企    150-500人  合肥·滨湖新区   \n2250       AKKA技术有限公司               车辆内饰采购    本科    外资    150-500人  上海·浦东新区   \n2251               滴滴  滴滴正编-自动驾驶车辆测试员-双休黄埔    大专    民营    10000人以上   广州·黄埔区   \n\n         6                                                  7     8   9   \\\n0     16000  2年, 本科, python, fastapi, django, redis, docker...    2年  全职   \n1      8000        1年, 本科, rpa, python, 周末双休, 带薪年假, 大牛带队, 朝九晚六    1年  全职   \n2     13000  3-4年, 大专, 数据库, 后台管理系统, ccs, python, js, html, ...  3-4年  全职   \n3     12000  5-7年, 大专, 五险一金, 周末双休, 带薪年假, 专业培训, 绩效奖金, 团队聚餐, ...  5-7年  全职   \n4     13500  1年, 本科, 计算机软件, 机器学习, 算法, 数据库, 多线程, go, 云服务, Py...    1年  全职   \n...     ...                                                ...   ...  ..   \n2247   4500                                       2年, 大专, 五险一金    2年  全职   \n2248   6500       2年, 驾驶, 带薪年假, 节日福利, 绩效奖金, 餐饮补贴, 包吃, 五险, 定期体检    2年  全职   \n2249  22500  3-4年, 本科, 市场营销, 金融, 车辆工程, 项目评估论证, 汽车金融公司, 金融租赁...  3-4年  全职   \n2250  11500  无需经验, 本科, 供应商谈判, 供应商关系, 全球采购, 免费班车, 员工旅游, 专业培训...  无需经验  全职   \n2251   7250  8-9年, 大专, 五险一金, 补充医疗保险, 年终奖金, 定期体检, 带薪年假, 上五休二...  8-9年  全职   \n\n              10        11  \n0     2023-08-28     计算机服务  \n1     2023-08-30     计算机服务  \n2     2023-08-29      网络游戏  \n3     2023-08-28  互联网/电子商务  \n4     2023-08-30  互联网/电子商务  \n...          ...       ...  \n2247  2023-08-04  交通/运输/物流  \n2248  2023-08-02        汽车  \n2249  2023-08-08  金融/投资/证券  \n2250  2023-08-15      专业服务  \n2251  2023-06-02  互联网/电子商务  \n\n[2252 rows x 12 columns]",
      "text/html": "<div>\n<style scoped>\n    .dataframe tbody tr th:only-of-type {\n        vertical-align: middle;\n    }\n\n    .dataframe tbody tr th {\n        vertical-align: top;\n    }\n\n    .dataframe thead th {\n        text-align: right;\n    }\n</style>\n<table border=\"1\" class=\"dataframe\">\n  <thead>\n    <tr style=\"text-align: right;\">\n      <th></th>\n      <th>0</th>\n      <th>1</th>\n      <th>2</th>\n      <th>3</th>\n      <th>4</th>\n      <th>5</th>\n      <th>6</th>\n      <th>7</th>\n      <th>8</th>\n      <th>9</th>\n      <th>10</th>\n      <th>11</th>\n    </tr>\n  </thead>\n  <tbody>\n    <tr>\n      <th>0</th>\n      <td>上海鸿帆网络科技有限公司</td>\n      <td>Python开发工程师</td>\n      <td>本科</td>\n      <td>民营</td>\n      <td>少于50人</td>\n      <td>上海·徐汇区</td>\n      <td>16000</td>\n      <td>2年, 本科, python, fastapi, django, redis, docker...</td>\n      <td>2年</td>\n      <td>全职</td>\n      <td>2023-08-28</td>\n      <td>计算机服务</td>\n    </tr>\n    <tr>\n      <th>1</th>\n      <td>网思科技股份有限公司</td>\n      <td>Python工程师</td>\n      <td>本科</td>\n      <td>民营</td>\n      <td>500-1000人</td>\n      <td>昆明·西山区</td>\n      <td>8000</td>\n      <td>1年, 本科, rpa, python, 周末双休, 带薪年假, 大牛带队, 朝九晚六</td>\n      <td>1年</td>\n      <td>全职</td>\n      <td>2023-08-30</td>\n      <td>计算机服务</td>\n    </tr>\n    <tr>\n      <th>2</th>\n      <td>深圳市悠享网络科技有限公司</td>\n      <td>Python工程师</td>\n      <td>大专</td>\n      <td>创业公司</td>\n      <td>50-150人</td>\n      <td>深圳·宝安区</td>\n      <td>13000</td>\n      <td>3-4年, 大专, 数据库, 后台管理系统, ccs, python, js, html, ...</td>\n      <td>3-4年</td>\n      <td>全职</td>\n      <td>2023-08-29</td>\n      <td>网络游戏</td>\n    </tr>\n    <tr>\n      <th>3</th>\n      <td>广东众图科技有限公司</td>\n      <td>Python开发高级工程师</td>\n      <td>大专</td>\n      <td>民营</td>\n      <td>150-500人</td>\n      <td>佛山·南海区</td>\n      <td>12000</td>\n      <td>5-7年, 大专, 五险一金, 周末双休, 带薪年假, 专业培训, 绩效奖金, 团队聚餐, ...</td>\n      <td>5-7年</td>\n      <td>全职</td>\n      <td>2023-08-28</td>\n      <td>互联网/电子商务</td>\n    </tr>\n    <tr>\n      <th>4</th>\n      <td>宁波草船科技有限公司</td>\n      <td>Python工程师</td>\n      <td>本科</td>\n      <td>民营</td>\n      <td>少于50人</td>\n      <td>宁波·鄞州区</td>\n      <td>13500</td>\n      <td>1年, 本科, 计算机软件, 机器学习, 算法, 数据库, 多线程, go, 云服务, Py...</td>\n      <td>1年</td>\n      <td>全职</td>\n      <td>2023-08-30</td>\n      <td>互联网/电子商务</td>\n    </tr>\n    <tr>\n      <th>...</th>\n      <td>...</td>\n      <td>...</td>\n      <td>...</td>\n      <td>...</td>\n      <td>...</td>\n      <td>...</td>\n      <td>...</td>\n      <td>...</td>\n      <td>...</td>\n      <td>...</td>\n      <td>...</td>\n      <td>...</td>\n    </tr>\n    <tr>\n      <th>2247</th>\n      <td>首汽租赁有限责任公司</td>\n      <td>首汽租车西宁车辆资产管理员</td>\n      <td>大专</td>\n      <td>国企</td>\n      <td>1000-5000人</td>\n      <td>西宁</td>\n      <td>4500</td>\n      <td>2年, 大专, 五险一金</td>\n      <td>2年</td>\n      <td>全职</td>\n      <td>2023-08-04</td>\n      <td>交通/运输/物流</td>\n    </tr>\n    <tr>\n      <th>2248</th>\n      <td>东莞市奥利汽车销售服务有限公司</td>\n      <td>车辆管理员</td>\n      <td>无需学历</td>\n      <td>民营</td>\n      <td>150-500人</td>\n      <td>东莞</td>\n      <td>6500</td>\n      <td>2年, 驾驶, 带薪年假, 节日福利, 绩效奖金, 餐饮补贴, 包吃, 五险, 定期体检</td>\n      <td>2年</td>\n      <td>全职</td>\n      <td>2023-08-02</td>\n      <td>汽车</td>\n    </tr>\n    <tr>\n      <th>2249</th>\n      <td>皖江金融租赁股份有限公司</td>\n      <td>车辆金融事业部业务岗</td>\n      <td>本科</td>\n      <td>国企</td>\n      <td>150-500人</td>\n      <td>合肥·滨湖新区</td>\n      <td>22500</td>\n      <td>3-4年, 本科, 市场营销, 金融, 车辆工程, 项目评估论证, 汽车金融公司, 金融租赁...</td>\n      <td>3-4年</td>\n      <td>全职</td>\n      <td>2023-08-08</td>\n      <td>金融/投资/证券</td>\n    </tr>\n    <tr>\n      <th>2250</th>\n      <td>AKKA技术有限公司</td>\n      <td>车辆内饰采购</td>\n      <td>本科</td>\n      <td>外资</td>\n      <td>150-500人</td>\n      <td>上海·浦东新区</td>\n      <td>11500</td>\n      <td>无需经验, 本科, 供应商谈判, 供应商关系, 全球采购, 免费班车, 员工旅游, 专业培训...</td>\n      <td>无需经验</td>\n      <td>全职</td>\n      <td>2023-08-15</td>\n      <td>专业服务</td>\n    </tr>\n    <tr>\n      <th>2251</th>\n      <td>滴滴</td>\n      <td>滴滴正编-自动驾驶车辆测试员-双休黄埔</td>\n      <td>大专</td>\n      <td>民营</td>\n      <td>10000人以上</td>\n      <td>广州·黄埔区</td>\n      <td>7250</td>\n      <td>8-9年, 大专, 五险一金, 补充医疗保险, 年终奖金, 定期体检, 带薪年假, 上五休二...</td>\n      <td>8-9年</td>\n      <td>全职</td>\n      <td>2023-06-02</td>\n      <td>互联网/电子商务</td>\n    </tr>\n  </tbody>\n</table>\n<p>2252 rows × 12 columns</p>\n</div>"
     },
     "execution_count": 73,
     "metadata": {},
     "output_type": "execute_result"
    }
   ],
   "source": [
    "df[6].fillna(df[6].mean(), inplace=True)\n",
    "df[2].fillna('无需学历', inplace=True)\n",
    "df[3].fillna('其他', inplace=True)\n",
    "df[4].fillna('暂无', inplace=True)\n",
    "df"
   ],
   "metadata": {
    "collapsed": false
   }
  },
  {
   "cell_type": "code",
   "execution_count": 74,
   "outputs": [
    {
     "name": "stderr",
     "output_type": "stream",
     "text": [
      "C:\\Users\\Polo\\AppData\\Local\\Temp\\ipykernel_18684\\288472921.py:6: SettingWithCopyWarning: \n",
      "A value is trying to be set on a copy of a slice from a DataFrame\n",
      "\n",
      "See the caveats in the documentation: https://pandas.pydata.org/pandas-docs/stable/user_guide/indexing.html#returning-a-view-versus-a-copy\n",
      "  df[7][i] = df[7][i].replace(\"'\", '')\n"
     ]
    },
    {
     "name": "stdout",
     "output_type": "stream",
     "text": [
      "数据处理完毕！！！！！！！！！！！！！！！！！！！！！！！！！！！！！！！！！！！！\n"
     ]
    }
   ],
   "source": [
    "df = df.astype({6: 'int'})\n",
    "df1 = df[df[4].notnull()]\n",
    "df1.reset_index(drop=True, inplace=True)\n",
    "df.reset_index(drop=True, inplace=True)\n",
    "for i in range(df.shape[0]):\n",
    "    df[7][i] = df[7][i].replace(\"'\", '')\n",
    "df.to_csv('../static/data.csv', index=False, header=False, encoding='utf-8-sig')\n",
    "print('数据处理完毕！！！！！！！！！！！！！！！！！！！！！！！！！！！！！！！！！！！！')"
   ],
   "metadata": {
    "collapsed": false
   }
  },
  {
   "cell_type": "code",
   "execution_count": 77,
   "outputs": [
    {
     "data": {
      "text/plain": "Empty DataFrame\nColumns: [0, 1, 2, 3, 4, 5, 6, 7, 8, 9, 10, 11]\nIndex: []",
      "text/html": "<div>\n<style scoped>\n    .dataframe tbody tr th:only-of-type {\n        vertical-align: middle;\n    }\n\n    .dataframe tbody tr th {\n        vertical-align: top;\n    }\n\n    .dataframe thead th {\n        text-align: right;\n    }\n</style>\n<table border=\"1\" class=\"dataframe\">\n  <thead>\n    <tr style=\"text-align: right;\">\n      <th></th>\n      <th>0</th>\n      <th>1</th>\n      <th>2</th>\n      <th>3</th>\n      <th>4</th>\n      <th>5</th>\n      <th>6</th>\n      <th>7</th>\n      <th>8</th>\n      <th>9</th>\n      <th>10</th>\n      <th>11</th>\n    </tr>\n  </thead>\n  <tbody>\n  </tbody>\n</table>\n</div>"
     },
     "execution_count": 77,
     "metadata": {},
     "output_type": "execute_result"
    }
   ],
   "source": [
    "pd.to_numeric(df['column1'], errors='coerce').mean()"
   ],
   "metadata": {
    "collapsed": false
   }
  },
  {
   "cell_type": "code",
   "execution_count": 76,
   "outputs": [
    {
     "data": {
      "text/plain": "Empty DataFrame\nColumns: [0, 1, 2, 3, 4, 5, 6, 7, 8, 9, 10, 11]\nIndex: []",
      "text/html": "<div>\n<style scoped>\n    .dataframe tbody tr th:only-of-type {\n        vertical-align: middle;\n    }\n\n    .dataframe tbody tr th {\n        vertical-align: top;\n    }\n\n    .dataframe thead th {\n        text-align: right;\n    }\n</style>\n<table border=\"1\" class=\"dataframe\">\n  <thead>\n    <tr style=\"text-align: right;\">\n      <th></th>\n      <th>0</th>\n      <th>1</th>\n      <th>2</th>\n      <th>3</th>\n      <th>4</th>\n      <th>5</th>\n      <th>6</th>\n      <th>7</th>\n      <th>8</th>\n      <th>9</th>\n      <th>10</th>\n      <th>11</th>\n    </tr>\n  </thead>\n  <tbody>\n  </tbody>\n</table>\n</div>"
     },
     "execution_count": 76,
     "metadata": {},
     "output_type": "execute_result"
    }
   ],
   "source": [
    "df[df[5].isnull()]"
   ],
   "metadata": {
    "collapsed": false
   }
  },
  {
   "cell_type": "code",
   "execution_count": 53,
   "outputs": [
    {
     "data": {
      "text/plain": "33000"
     },
     "execution_count": 53,
     "metadata": {},
     "output_type": "execute_result"
    }
   ],
   "source": [
    "int(eval(dd[0:-3]) *1000* 22)"
   ],
   "metadata": {
    "collapsed": false
   }
  },
  {
   "cell_type": "code",
   "execution_count": 154,
   "outputs": [],
   "source": [
    "import configparser\n",
    "\n",
    "cfp = configparser.RawConfigParser()\n",
    "cfp.read('../config.ini', encoding='utf-8')\n",
    "t=bool(int(cfp.get('setting', 'reget_data')))"
   ],
   "metadata": {
    "collapsed": false
   }
  },
  {
   "cell_type": "code",
   "execution_count": 155,
   "outputs": [
    {
     "data": {
      "text/plain": "True"
     },
     "execution_count": 155,
     "metadata": {},
     "output_type": "execute_result"
    }
   ],
   "source": [
    "t"
   ],
   "metadata": {
    "collapsed": false
   }
  },
  {
   "cell_type": "code",
   "execution_count": 151,
   "outputs": [
    {
     "data": {
      "text/plain": "['0']"
     },
     "execution_count": 151,
     "metadata": {},
     "output_type": "execute_result"
    }
   ],
   "source": [
    "if t :\n",
    "    print('yes')"
   ],
   "metadata": {
    "collapsed": false
   }
  },
  {
   "cell_type": "code",
   "execution_count": 148,
   "outputs": [
    {
     "name": "stdout",
     "output_type": "stream",
     "text": [
      "True\n"
     ]
    }
   ],
   "source": [
    "string_value = '0'\n",
    "boolean_value = bool(string_value)\n",
    "print(boolean_value)  # 输出: True\n"
   ],
   "metadata": {
    "collapsed": false
   }
  },
  {
   "cell_type": "code",
   "execution_count": 140,
   "outputs": [
    {
     "name": "stdout",
     "output_type": "stream",
     "text": [
      "True\n"
     ]
    }
   ],
   "source": [
    "string_value = \"abc\"\n",
    "boolean_value = bool(string_value.upper())  # 转为大写后再进行转换\n",
    "print(boolean_value)  # 输出: False\n"
   ],
   "metadata": {
    "collapsed": false
   }
  },
  {
   "cell_type": "code",
   "execution_count": 141,
   "outputs": [
    {
     "name": "stdout",
     "output_type": "stream",
     "text": [
      "True\n"
     ]
    }
   ],
   "source": [
    "print(bool(\"abc\"))"
   ],
   "metadata": {
    "collapsed": false
   }
  },
  {
   "cell_type": "code",
   "execution_count": null,
   "outputs": [],
   "source": [],
   "metadata": {
    "collapsed": false
   }
  }
 ],
 "metadata": {
  "kernelspec": {
   "display_name": "Python 3",
   "language": "python",
   "name": "python3"
  },
  "language_info": {
   "codemirror_mode": {
    "name": "ipython",
    "version": 2
   },
   "file_extension": ".py",
   "mimetype": "text/x-python",
   "name": "python",
   "nbconvert_exporter": "python",
   "pygments_lexer": "ipython2",
   "version": "2.7.6"
  }
 },
 "nbformat": 4,
 "nbformat_minor": 0
}
